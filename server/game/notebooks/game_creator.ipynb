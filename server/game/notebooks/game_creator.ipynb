{
 "cells": [
  {
   "cell_type": "code",
   "execution_count": 1,
   "metadata": {
    "vscode": {
     "languageId": "shellscript"
    }
   },
   "outputs": [
    {
     "name": "stdout",
     "output_type": "stream",
     "text": [
      "/home/todd/dev/tm-svelte/server\n"
     ]
    }
   ],
   "source": [
    "cd ~/dev/tm-svelte/server"
   ]
  },
  {
   "cell_type": "code",
   "execution_count": 2,
   "metadata": {},
   "outputs": [],
   "source": [
    "import os\n",
    "os.environ.setdefault(\"DJANGO_SETTINGS_MODULE\", \"server.settings\")\n",
    "# NOTE: this probably shouldn't be used anywhere other than in Jupyter during development\n",
    "# see https://docs.djangoproject.com/en/3.0/topics/async/\n",
    "os.environ[\"DJANGO_ALLOW_ASYNC_UNSAFE\"] = \"true\"\n",
    "\n",
    "import django\n",
    "django.setup()"
   ]
  },
  {
   "cell_type": "code",
   "execution_count": 3,
   "metadata": {},
   "outputs": [],
   "source": [
    "import json\n",
    "from game.models import *\n",
    "from game.processors.airtable_importer import AirtableData\n",
    "from game.processors.game_creator import TriviaGameCreator, TriviaGameFactory"
   ]
  },
  {
   "cell_type": "code",
   "execution_count": 4,
   "metadata": {},
   "outputs": [],
   "source": [
    "with open('/home/todd/dev/tm-svelte/server/game/fixtures/games_data.json', 'r') as f:\n",
    "    data = json.load(f)"
   ]
  },
  {
   "cell_type": "code",
   "execution_count": 5,
   "metadata": {},
   "outputs": [
    {
     "name": "stdout",
     "output_type": "stream",
     "text": [
      "added the following columns to the dataframe: []\n"
     ]
    },
    {
     "data": {
      "text/plain": [
       "5"
      ]
     },
     "execution_count": 5,
     "metadata": {},
     "output_type": "execute_result"
    }
   ],
   "source": [
    "df = AirtableData.process_airtable_data(data)\n",
    "frames = AirtableData.create_date_frames(df)\n",
    "len(frames)"
   ]
  },
  {
   "cell_type": "code",
   "execution_count": 6,
   "metadata": {},
   "outputs": [],
   "source": [
    "gc = TriviaGameCreator(frames[0])\n",
    "gc.update_or_create(commit=True)"
   ]
  },
  {
   "cell_type": "code",
   "execution_count": 7,
   "metadata": {},
   "outputs": [
    {
     "data": {
      "text/plain": [
       "{'date_used': datetime.date(2023, 2, 8),\n",
       " 'games_created': 0,\n",
       " 'rounds_created': 0,\n",
       " 'questions_created': 0}"
      ]
     },
     "execution_count": 7,
     "metadata": {},
     "output_type": "execute_result"
    }
   ],
   "source": [
    "gc.summarize_transaction()"
   ]
  },
  {
   "cell_type": "code",
   "execution_count": 8,
   "metadata": {},
   "outputs": [
    {
     "data": {
      "text/plain": [
       "<Game: 20230208 - Private Event - Nine Mile - Sound>"
      ]
     },
     "execution_count": 8,
     "metadata": {},
     "output_type": "execute_result"
    }
   ],
   "source": [
    "gc.game"
   ]
  },
  {
   "cell_type": "code",
   "execution_count": 9,
   "metadata": {},
   "outputs": [],
   "source": [
    "gf = TriviaGameFactory(*frames)\n",
    "gf.process()"
   ]
  },
  {
   "cell_type": "code",
   "execution_count": 10,
   "metadata": {},
   "outputs": [
    {
     "data": {
      "text/plain": [
       "{'dates_used': [datetime.date(2023, 2, 8),\n",
       "  datetime.date(2023, 2, 9),\n",
       "  datetime.date(2023, 2, 10),\n",
       "  datetime.date(2023, 2, 6),\n",
       "  datetime.date(2023, 2, 8)],\n",
       " 'games_created': 4,\n",
       " 'rounds_created': 36,\n",
       " 'questions_created': 184}"
      ]
     },
     "execution_count": 10,
     "metadata": {},
     "output_type": "execute_result"
    }
   ],
   "source": [
    "gf.get_statistics()"
   ]
  },
  {
   "cell_type": "code",
   "execution_count": null,
   "metadata": {},
   "outputs": [],
   "source": []
  }
 ],
 "metadata": {
  "kernelspec": {
   "display_name": "tm-svelte-bQq8cgGE",
   "language": "python",
   "name": "python3"
  },
  "language_info": {
   "codemirror_mode": {
    "name": "ipython",
    "version": 3
   },
   "file_extension": ".py",
   "mimetype": "text/x-python",
   "name": "python",
   "nbconvert_exporter": "python",
   "pygments_lexer": "ipython3",
   "version": "3.10.9"
  },
  "orig_nbformat": 4,
  "vscode": {
   "interpreter": {
    "hash": "0518f5e0bed2851c03c24b9745293b9f3eb66fe4175bfe86f2f7537b473096c0"
   }
  }
 },
 "nbformat": 4,
 "nbformat_minor": 2
}
