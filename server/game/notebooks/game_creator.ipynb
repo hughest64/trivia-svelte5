{
 "cells": [
  {
   "cell_type": "code",
   "execution_count": 1,
   "metadata": {
    "vscode": {
     "languageId": "shellscript"
    }
   },
   "outputs": [
    {
     "name": "stdout",
     "output_type": "stream",
     "text": [
      "/home/todd/dev/tm-svelte/server\n"
     ]
    }
   ],
   "source": [
    "cd ~/dev/tm-svelte/server"
   ]
  },
  {
   "cell_type": "code",
   "execution_count": 2,
   "metadata": {},
   "outputs": [],
   "source": [
    "import os\n",
    "os.environ.setdefault(\"DJANGO_SETTINGS_MODULE\", \"server.settings\")\n",
    "# NOTE: this probably shouldn't be used anywhere other than in Jupyter during development\n",
    "# see https://docs.djangoproject.com/en/3.0/topics/async/\n",
    "os.environ[\"DJANGO_ALLOW_ASYNC_UNSAFE\"] = \"true\"\n",
    "\n",
    "import django\n",
    "django.setup()"
   ]
  },
  {
   "cell_type": "code",
   "execution_count": 3,
   "metadata": {},
   "outputs": [],
   "source": [
    "import json\n",
    "from game.models import *\n",
    "from game.processors.airtable_importer import AirtableData\n",
    "from game.processors.game_creator import TriviaGameCreator, TriviaGameFactory"
   ]
  },
  {
   "cell_type": "code",
   "execution_count": 4,
   "metadata": {},
   "outputs": [],
   "source": [
    "with open('/home/todd/dev/tm-svelte/server/game/fixtures/games_data.json', 'r') as f:\n",
    "    data = json.load(f)"
   ]
  },
  {
   "cell_type": "code",
   "execution_count": 8,
   "metadata": {},
   "outputs": [
    {
     "name": "stdout",
     "output_type": "stream",
     "text": [
      "added the following columns to the dataframe: []\n"
     ]
    },
    {
     "data": {
      "text/plain": [
       "5"
      ]
     },
     "execution_count": 8,
     "metadata": {},
     "output_type": "execute_result"
    }
   ],
   "source": [
    "df = AirtableData.process_airtable_data(data)\n",
    "frames = AirtableData.create_date_frames(df)\n",
    "len(frames)"
   ]
  },
  {
   "cell_type": "code",
   "execution_count": 6,
   "metadata": {},
   "outputs": [
    {
     "name": "stdout",
     "output_type": "stream",
     "text": [
      "{'id': 209, 'question_type': 'Image Round', 'question_text': 'What logo is this?', 'question_url': 'https://triviamafia.1pg.us/files/images/20230206/20230206_1.png', 'display_answer': 'Blockbuster', 'answer_notes': '', 'accepted_answers': ['Blockbuster Video']}\n",
      "{'id': 210, 'question_type': 'Image Round', 'question_text': 'What show is this Buster from?', 'question_url': 'https://triviamafia.1pg.us/files/images/20230206/20230206_2.jpg', 'display_answer': '“Arrested Development”', 'answer_notes': '', 'accepted_answers': []}\n",
      "{'id': 211, 'question_type': 'Image Round', 'question_text': 'What is this product?', 'question_url': 'https://triviamafia.1pg.us/files/images/20230206/20230206_3.png', 'display_answer': 'Dustbuster', 'answer_notes': '', 'accepted_answers': []}\n",
      "{'id': 212, 'question_type': 'Image Round', 'question_text': 'Who are they?', 'question_url': 'https://triviamafia.1pg.us/files/images/20230206/20230206_4.jpg', 'display_answer': 'Dave and Buster', 'answer_notes': '(founders of Dave & Buster’s)', 'accepted_answers': []}\n",
      "{'id': 213, 'question_type': 'Image Round', 'question_text': 'What movie is this?', 'question_url': 'https://triviamafia.1pg.us/files/images/20230206/20230206_5.jpg', 'display_answer': '“The Ballad of Buster Scruggs”', 'answer_notes': '', 'accepted_answers': []}\n",
      "{'id': 214, 'question_type': 'Image Round', 'question_text': 'Who is this?', 'question_url': 'https://triviamafia.1pg.us/files/images/20230206/20230206_6.jpg', 'display_answer': 'Buster Keaton', 'answer_notes': '', 'accepted_answers': []}\n",
      "{'id': 215, 'question_type': 'Image Round', 'question_text': 'Who is this?', 'question_url': 'https://triviamafia.1pg.us/files/images/20230206/20230206_7.jpg', 'display_answer': 'Busta Rhymes', 'answer_notes': '', 'accepted_answers': []}\n",
      "{'id': 216, 'question_type': 'Image Round', 'question_text': 'What is this DQ treat?', 'question_url': 'https://triviamafia.1pg.us/files/images/20230206/20230206_8.png', 'display_answer': 'Peanut Buster Parfait', 'answer_notes': '', 'accepted_answers': []}\n",
      "{'id': 217, 'question_type': 'Image Round', 'question_text': 'Who is this mascot?', 'question_url': 'https://triviamafia.1pg.us/files/images/20230206/20230206_9.jpg', 'display_answer': 'Buster Brown', 'answer_notes': '', 'accepted_answers': []}\n",
      "{'id': 218, 'question_type': 'Image Round', 'question_text': 'What song is this?', 'question_url': 'https://triviamafia.1pg.us/files/images/20230206/20230206_10.gif', 'display_answer': '“No Scrubs”', 'answer_notes': '', 'accepted_answers': []}\n"
     ]
    }
   ],
   "source": [
    "gc = TriviaGameCreator(frames[0])\n",
    "gc.update_or_create(commit=True)"
   ]
  },
  {
   "cell_type": "code",
   "execution_count": 9,
   "metadata": {},
   "outputs": [
    {
     "data": {
      "text/plain": [
       "{'date_used': datetime.date(2023, 2, 6),\n",
       " 'games_created': 2,\n",
       " 'rounds_created': 18,\n",
       " 'questions_created': 92}"
      ]
     },
     "execution_count": 9,
     "metadata": {},
     "output_type": "execute_result"
    }
   ],
   "source": [
    "gc.summarize_transaction()"
   ]
  },
  {
   "cell_type": "code",
   "execution_count": 10,
   "metadata": {},
   "outputs": [],
   "source": [
    "games = Game.objects.all()"
   ]
  },
  {
   "cell_type": "code",
   "execution_count": 11,
   "metadata": {},
   "outputs": [
    {
     "data": {
      "text/plain": [
       "6"
      ]
     },
     "execution_count": 11,
     "metadata": {},
     "output_type": "execute_result"
    }
   ],
   "source": [
    "games.count()"
   ]
  },
  {
   "cell_type": "code",
   "execution_count": 12,
   "metadata": {},
   "outputs": [
    {
     "data": {
      "text/plain": [
       "<Game: 20230206 - A - Sound>"
      ]
     },
     "execution_count": 12,
     "metadata": {},
     "output_type": "execute_result"
    }
   ],
   "source": [
    "gc.game"
   ]
  },
  {
   "cell_type": "code",
   "execution_count": 13,
   "metadata": {},
   "outputs": [
    {
     "data": {
      "text/plain": [
       "<QuerySet []>"
      ]
     },
     "execution_count": 13,
     "metadata": {},
     "output_type": "execute_result"
    }
   ],
   "source": [
    "Game.objects.filter(title__contains=\"20230206 - A -\")"
   ]
  },
  {
   "cell_type": "code",
   "execution_count": null,
   "metadata": {},
   "outputs": [],
   "source": []
  }
 ],
 "metadata": {
  "kernelspec": {
   "display_name": "tm-svelte-bQq8cgGE",
   "language": "python",
   "name": "python3"
  },
  "language_info": {
   "codemirror_mode": {
    "name": "ipython",
    "version": 3
   },
   "file_extension": ".py",
   "mimetype": "text/x-python",
   "name": "python",
   "nbconvert_exporter": "python",
   "pygments_lexer": "ipython3",
   "version": "3.10.9"
  },
  "orig_nbformat": 4,
  "vscode": {
   "interpreter": {
    "hash": "0518f5e0bed2851c03c24b9745293b9f3eb66fe4175bfe86f2f7537b473096c0"
   }
  }
 },
 "nbformat": 4,
 "nbformat_minor": 2
}
