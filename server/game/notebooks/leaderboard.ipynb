{
 "cells": [
  {
   "cell_type": "code",
   "execution_count": 1,
   "metadata": {
    "vscode": {
     "languageId": "shellscript"
    }
   },
   "outputs": [
    {
     "name": "stdout",
     "output_type": "stream",
     "text": [
      "/home/todd/dev/tm-svelte/server\n"
     ]
    }
   ],
   "source": [
    "cd ~/dev/tm-svelte/server"
   ]
  },
  {
   "cell_type": "code",
   "execution_count": 2,
   "metadata": {},
   "outputs": [],
   "source": [
    "import os\n",
    "os.environ.setdefault(\"DJANGO_SETTINGS_MODULE\", \"server.settings\")\n",
    "# NOTE: this probably shouldn't be used anywhere other than in Jupyter during development\n",
    "# see https://docs.djangoproject.com/en/3.0/topics/async/\n",
    "os.environ[\"DJANGO_ALLOW_ASYNC_UNSAFE\"] = \"true\"\n",
    "\n",
    "import django\n",
    "django.setup()"
   ]
  },
  {
   "cell_type": "code",
   "execution_count": 3,
   "metadata": {},
   "outputs": [],
   "source": [
    "from game.models import *\n",
    "from game.processors import LeaderboardProcessor"
   ]
  },
  {
   "cell_type": "code",
   "execution_count": 4,
   "metadata": {},
   "outputs": [
    {
     "data": {
      "text/plain": [
       "2465"
      ]
     },
     "execution_count": 4,
     "metadata": {},
     "output_type": "execute_result"
    }
   ],
   "source": [
    "resps = QuestionResponse.objects.filter(event__joincode=9998)\n",
    "resps.count()"
   ]
  },
  {
   "cell_type": "code",
   "execution_count": 5,
   "metadata": {},
   "outputs": [],
   "source": [
    "event = TriviaEvent.objects.get(joincode=9998)\n",
    "# lb, created = Leaderboard.objects.update_or_create(event=event, leaderboard_type=LEADERBOARD_TYPE_HOST)\n",
    "# print(\"created?\", created)"
   ]
  },
  {
   "cell_type": "code",
   "execution_count": 6,
   "metadata": {},
   "outputs": [
    {
     "data": {
      "text/plain": [
       "57"
      ]
     },
     "execution_count": 6,
     "metadata": {},
     "output_type": "execute_result"
    }
   ],
   "source": [
    "teams = {r.team for r in resps}\n",
    "len(teams)"
   ]
  },
  {
   "cell_type": "code",
   "execution_count": 7,
   "metadata": {},
   "outputs": [
    {
     "name": "stdout",
     "output_type": "stream",
     "text": [
      "57\n"
     ]
    }
   ],
   "source": [
    "lbe_created_count = 0\n",
    "for team in teams:\n",
    "    pub_lbe, created = LeaderboardEntry.objects.update_or_create(event=event, team=team, leaderboard_type=LEADERBOARD_TYPE_PUBLIC)\n",
    "    host_lbe, _ = LeaderboardEntry.objects.update_or_create(event=event, team=team, leaderboard_type=LEADERBOARD_TYPE_HOST)\n",
    "    if created:\n",
    "        lbe_created_count += 1\n",
    "print(lbe_created_count)"
   ]
  },
  {
   "cell_type": "code",
   "execution_count": 8,
   "metadata": {},
   "outputs": [
    {
     "ename": "TypeError",
     "evalue": "LeaderboardProcessor.__init__() got an unexpected keyword argument 'leaderboard_type'",
     "output_type": "error",
     "traceback": [
      "\u001b[0;31m---------------------------------------------------------------------------\u001b[0m",
      "\u001b[0;31mTypeError\u001b[0m                                 Traceback (most recent call last)",
      "Cell \u001b[0;32mIn[8], line 1\u001b[0m\n\u001b[0;32m----> 1\u001b[0m processor \u001b[39m=\u001b[39m LeaderboardProcessor(event\u001b[39m=\u001b[39;49mevent, leaderboard_type\u001b[39m=\u001b[39;49m\u001b[39m1\u001b[39;49m, through_round\u001b[39m=\u001b[39;49m\u001b[39m8\u001b[39;49m)\n",
      "\u001b[0;31mTypeError\u001b[0m: LeaderboardProcessor.__init__() got an unexpected keyword argument 'leaderboard_type'"
     ]
    }
   ],
   "source": [
    "processor = LeaderboardProcessor(event=event, through_round=8)"
   ]
  },
  {
   "cell_type": "code",
   "execution_count": null,
   "metadata": {},
   "outputs": [
    {
     "ename": "ProcedureError",
     "evalue": "Updating a public leaderboard directly is not allowed. Use the 'sync_leaderboards' method to sync with the host leaderboard instead",
     "output_type": "error",
     "traceback": [
      "\u001b[0;31m---------------------------------------------------------------------------\u001b[0m",
      "\u001b[0;31mProcedureError\u001b[0m                            Traceback (most recent call last)",
      "Cell \u001b[0;32mIn[16], line 1\u001b[0m\n\u001b[0;32m----> 1\u001b[0m processor\u001b[39m.\u001b[39;49mupdate_host_leaderboard()\n",
      "File \u001b[0;32m~/dev/tm-svelte/server/game/processors/leaderboard_processor.py:73\u001b[0m, in \u001b[0;36mLeaderboardProcessor.update_host_leaderboard\u001b[0;34m(self)\u001b[0m\n\u001b[1;32m     71\u001b[0m \u001b[39mdef\u001b[39;00m \u001b[39mupdate_host_leaderboard\u001b[39m(\u001b[39mself\u001b[39m):\n\u001b[1;32m     72\u001b[0m     \u001b[39mif\u001b[39;00m \u001b[39mself\u001b[39m\u001b[39m.\u001b[39mleaderboard_type \u001b[39m==\u001b[39m LEADERBOARD_TYPE_PUBLIC:\n\u001b[0;32m---> 73\u001b[0m         \u001b[39mraise\u001b[39;00m ProcedureError(\n\u001b[1;32m     74\u001b[0m             \u001b[39m\"\u001b[39m\u001b[39mUpdating a public leaderboard directly is not allowed. Use the \u001b[39m\u001b[39m'\u001b[39m\u001b[39msync_leaderboards\u001b[39m\u001b[39m'\u001b[39m\u001b[39m method to sync with the host leaderboard instead\u001b[39m\u001b[39m\"\u001b[39m\n\u001b[1;32m     75\u001b[0m         )\n\u001b[1;32m     76\u001b[0m     \u001b[39mself\u001b[39m\u001b[39m.\u001b[39mprocessing \u001b[39m=\u001b[39m \u001b[39mTrue\u001b[39;00m\n\u001b[1;32m     77\u001b[0m     \u001b[39mtry\u001b[39;00m:\n",
      "\u001b[0;31mProcedureError\u001b[0m: Updating a public leaderboard directly is not allowed. Use the 'sync_leaderboards' method to sync with the host leaderboard instead"
     ]
    }
   ],
   "source": [
    "processor.update_host_leaderboard()"
   ]
  },
  {
   "cell_type": "code",
   "execution_count": null,
   "metadata": {},
   "outputs": [
    {
     "name": "stdout",
     "output_type": "stream",
     "text": [
      "[(1, 'test-491', 44.0), (2, 'test-496', 40.0), (3, 'test-42616', 39.0), (3, 'test-42583', 39.0), (3, 'test-344', 39.0), (6, 'test-42617', 38.0), (7, 'test-348', 37.0), (7, 'test-328', 37.0), (7, 'test-41538', 37.0), (10, 'test-157', 36.0)]\n"
     ]
    }
   ],
   "source": [
    "check = LeaderboardEntry.objects.all().order_by('rank')\n",
    "print([(e.rank, e.team.name, e.total_points) for e in check ][:10])"
   ]
  },
  {
   "cell_type": "code",
   "execution_count": null,
   "metadata": {},
   "outputs": [
    {
     "data": {
      "text/plain": [
       "63"
      ]
     },
     "execution_count": 11,
     "metadata": {},
     "output_type": "execute_result"
    }
   ],
   "source": [
    "Team.objects.all().count()"
   ]
  },
  {
   "cell_type": "code",
   "execution_count": null,
   "metadata": {},
   "outputs": [],
   "source": []
  }
 ],
 "metadata": {
  "kernelspec": {
   "display_name": "tm-svelte-bQq8cgGE",
   "language": "python",
   "name": "python3"
  },
  "language_info": {
   "codemirror_mode": {
    "name": "ipython",
    "version": 3
   },
   "file_extension": ".py",
   "mimetype": "text/x-python",
   "name": "python",
   "nbconvert_exporter": "python",
   "pygments_lexer": "ipython3",
   "version": "3.10.9"
  },
  "orig_nbformat": 4,
  "vscode": {
   "interpreter": {
    "hash": "0518f5e0bed2851c03c24b9745293b9f3eb66fe4175bfe86f2f7537b473096c0"
   }
  }
 },
 "nbformat": 4,
 "nbformat_minor": 2
}
