{
 "cells": [
  {
   "cell_type": "code",
   "execution_count": 1,
   "metadata": {
    "vscode": {
     "languageId": "shellscript"
    }
   },
   "outputs": [
    {
     "name": "stdout",
     "output_type": "stream",
     "text": [
      "/home/todd/dev/tm-svelte/server\n"
     ]
    }
   ],
   "source": [
    "cd ~/dev/tm-svelte/server"
   ]
  },
  {
   "cell_type": "code",
   "execution_count": 2,
   "metadata": {},
   "outputs": [],
   "source": [
    "import os\n",
    "os.environ.setdefault(\"DJANGO_SETTINGS_MODULE\", \"server.settings\")\n",
    "# NOTE: this probably shouldn't be used anywhere other than in Jupyter during development\n",
    "# see https://docs.djangoproject.com/en/3.0/topics/async/\n",
    "os.environ[\"DJANGO_ALLOW_ASYNC_UNSAFE\"] = \"true\"\n",
    "\n",
    "import django\n",
    "django.setup()"
   ]
  },
  {
   "cell_type": "code",
   "execution_count": 3,
   "metadata": {},
   "outputs": [],
   "source": [
    "from game.models import *\n",
    "from game.processors import LeaderboardProcessor"
   ]
  },
  {
   "cell_type": "raw",
   "metadata": {},
   "source": [
    "1. create leaderboard\n",
    "2. create lbe's for each team (use a set of teams from resps for now, ultimately we want teams on the event)\n",
    "3. run the score method\n",
    "4. run the rank method"
   ]
  },
  {
   "cell_type": "code",
   "execution_count": 4,
   "metadata": {},
   "outputs": [
    {
     "data": {
      "text/plain": [
       "2465"
      ]
     },
     "execution_count": 4,
     "metadata": {},
     "output_type": "execute_result"
    }
   ],
   "source": [
    "resps = QuestionResponse.objects.filter(event__joincode=9998)\n",
    "resps.count()"
   ]
  },
  {
   "cell_type": "code",
   "execution_count": 5,
   "metadata": {},
   "outputs": [
    {
     "name": "stdout",
     "output_type": "stream",
     "text": [
      "created? False\n"
     ]
    }
   ],
   "source": [
    "event = TriviaEvent.objects.get(joincode=9998)\n",
    "lb, created = Leaderboard.objects.update_or_create(event=event, leaderboard_type=0)\n",
    "print(\"created?\", created)"
   ]
  },
  {
   "cell_type": "code",
   "execution_count": 6,
   "metadata": {},
   "outputs": [
    {
     "data": {
      "text/plain": [
       "57"
      ]
     },
     "execution_count": 6,
     "metadata": {},
     "output_type": "execute_result"
    }
   ],
   "source": [
    "teams = {r.team for r in resps}\n",
    "len(teams)"
   ]
  },
  {
   "cell_type": "code",
   "execution_count": 7,
   "metadata": {},
   "outputs": [
    {
     "name": "stdout",
     "output_type": "stream",
     "text": [
      "0\n"
     ]
    }
   ],
   "source": [
    "lbe_created_count = 0\n",
    "for team in teams:\n",
    "    lbe, created = LeaderboardEntry.objects.update_or_create(leaderboard=lb, team=team)\n",
    "    if created:\n",
    "        lbe_created_count += 1\n",
    "print(lbe_created_count)"
   ]
  },
  {
   "cell_type": "code",
   "execution_count": 8,
   "metadata": {},
   "outputs": [],
   "source": [
    "processor = LeaderboardProcessor(event=event, leaderboard_type=0, through_round=8)"
   ]
  },
  {
   "cell_type": "code",
   "execution_count": 9,
   "metadata": {},
   "outputs": [
    {
     "data": {
      "text/plain": [
       "{'sucess': True}"
      ]
     },
     "execution_count": 9,
     "metadata": {},
     "output_type": "execute_result"
    }
   ],
   "source": [
    "processor.update_leaderboard()"
   ]
  },
  {
   "cell_type": "code",
   "execution_count": 10,
   "metadata": {},
   "outputs": [
    {
     "name": "stdout",
     "output_type": "stream",
     "text": [
      "[(1, 'test-491', 44.0), (2, 'test-496', 40.0), (3, 'test-42616', 39.0), (3, 'test-42583', 39.0), (3, 'test-344', 39.0), (6, 'test-42617', 38.0), (7, 'test-348', 37.0), (7, 'test-328', 37.0), (7, 'test-41538', 37.0), (10, 'test-157', 36.0)]\n"
     ]
    }
   ],
   "source": [
    "check = LeaderboardEntry.objects.all().order_by('rank')\n",
    "print([(e.rank, e.team.name, e.total_points) for e in check ][:10])"
   ]
  },
  {
   "cell_type": "code",
   "execution_count": 11,
   "metadata": {},
   "outputs": [
    {
     "data": {
      "text/plain": [
       "63"
      ]
     },
     "execution_count": 11,
     "metadata": {},
     "output_type": "execute_result"
    }
   ],
   "source": [
    "Team.objects.all().count()"
   ]
  },
  {
   "cell_type": "code",
   "execution_count": null,
   "metadata": {},
   "outputs": [],
   "source": []
  }
 ],
 "metadata": {
  "kernelspec": {
   "display_name": "tm-svelte-bQq8cgGE",
   "language": "python",
   "name": "python3"
  },
  "language_info": {
   "codemirror_mode": {
    "name": "ipython",
    "version": 3
   },
   "file_extension": ".py",
   "mimetype": "text/x-python",
   "name": "python",
   "nbconvert_exporter": "python",
   "pygments_lexer": "ipython3",
   "version": "3.10.9"
  },
  "orig_nbformat": 4,
  "vscode": {
   "interpreter": {
    "hash": "0518f5e0bed2851c03c24b9745293b9f3eb66fe4175bfe86f2f7537b473096c0"
   }
  }
 },
 "nbformat": 4,
 "nbformat_minor": 2
}
